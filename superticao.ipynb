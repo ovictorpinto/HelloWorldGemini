{
  "nbformat": 4,
  "nbformat_minor": 0,
  "metadata": {
    "colab": {
      "provenance": [],
      "mount_file_id": "1nljaUHzoVc6ukm7QT_k5PksTRwEmJZ22",
      "authorship_tag": "ABX9TyOsUj5Na5K2mkFXzwh6vy67",
      "include_colab_link": true
    },
    "kernelspec": {
      "name": "python3",
      "display_name": "Python 3"
    },
    "language_info": {
      "name": "python"
    }
  },
  "cells": [
    {
      "cell_type": "markdown",
      "metadata": {
        "id": "view-in-github",
        "colab_type": "text"
      },
      "source": [
        "<a href=\"https://colab.research.google.com/github/ovictorpinto/HelloWorldGemini/blob/master/superticao.ipynb\" target=\"_parent\"><img src=\"https://colab.research.google.com/assets/colab-badge.svg\" alt=\"Open In Colab\"/></a>"
      ]
    },
    {
      "cell_type": "code",
      "source": [
        "!pip install -q -U google-generativeai"
      ],
      "metadata": {
        "id": "KGOcRHXrKuNb"
      },
      "execution_count": 1,
      "outputs": []
    },
    {
      "cell_type": "code",
      "source": [
        "import google.generativeai as genai"
      ],
      "metadata": {
        "id": "tvAHidoeKycB"
      },
      "execution_count": 2,
      "outputs": []
    },
    {
      "cell_type": "markdown",
      "source": [
        "Na página https://loterias.caixa.gov.br/Paginas/Mega-Sena.aspx é possível baixar um arquivo Excel com todos os resultados e prêmios sorteados desde março de 96.\n",
        "\n",
        "Fiz o upload no aistudio.google.com e pedi que ele gerasse um json com as informações resumidas\n",
        "> Gere uma formato json com os números sorteados, data do premio e valor sorteado ou acumulado nas 6 dezenas. Gere somente 4 itens para validarmos o formato\n",
        "\n",
        "A saída foi um json muito grande que não caberia aqui mas peguei alguns dados de exemplo"
      ],
      "metadata": {
        "id": "UdAOS-sLK2yv"
      }
    },
    {
      "cell_type": "code",
      "execution_count": 15,
      "metadata": {
        "id": "_wJalmSmwfdM"
      },
      "outputs": [],
      "source": [
        "todosResultados = [{\"numeros\":[4,5,30,33,41,52],\"data\":\"11/03/1996\",\"valor\":\"R$1.714.650,23\"},{\"numeros\":[9,37,39,41,43,49],\"data\":\"18/03/1996\",\"valor\":\"R$2.307.162,23\"},{\"numeros\":[10,11,29,30,36,47],\"data\":\"25/03/1996\",\"valor\":\"R$391.192,51\"},{\"numeros\":[1,5,6,27,42,59],\"data\":\"01/04/1996\",\"valor\":\"R$717.080,75\"},{\"numeros\":[1,2,6,16,19,46],\"data\":\"08/04/1996\",\"valor\":\"R$1.342.488,85\"},{\"numeros\":[7,13,19,22,40,47],\"data\":\"15/04/1996\",\"valor\":\"R$2.286.166,33\"},{\"numeros\":[3,5,20,21,38,56],\"data\":\"22/04/1996\",\"valor\":\"R$3.335.692,28\"},{\"numeros\":[4,17,37,38,47,53],\"data\":\"29/04/1996\",\"valor\":\"R$4.493.748,19\"},{\"numeros\":[8,43,54,55,56,60],\"data\":\"06/05/1996\",\"valor\":\"R$5.718.641,49\"},{\"numeros\":[4,18,21,25,38,57],\"data\":\"13/05/1996\",\"valor\":\"R$13.334.769,81\"},{\"numeros\":[15,25,37,38,58,59],\"data\":\"20/05/1996\",\"valor\":\"R$15.591.365,07\"},{\"numeros\":[4,16,19,20,27,43],\"data\":\"27/05/1996\",\"valor\":\"R$880.136,24\"},{\"numeros\":[18,32,47,50,54,56],\"data\":\"03/06/1996\",\"valor\":\"R$1.940.205,35\"},{\"numeros\":[2,16,23,27,47,53],\"data\":\"10/06/1996\",\"valor\":\"R$3.006.941,32\"},{\"numeros\":[12,33,35,51,52,60],\"data\":\"17/06/1996\",\"valor\":\"R$4.232.661,35\"},{\"numeros\":[20,32,34,49,58,60],\"data\":\"24/06/1996\",\"valor\":\"R$5.471.686,62\"},{\"numeros\":[6,10,13,19,20,51],\"data\":\"01/07/1996\",\"valor\":\"R$6.789.869,08\"},{\"numeros\":[23,27,36,37,42,56],\"data\":\"08/07/1996\",\"valor\":\"R$858.843,48\"},{\"numeros\":[5,10,12,24,25,60],\"data\":\"15/07/1996\",\"valor\":\"R$10.506.266,73\"},{\"numeros\":[11,25,28,30,33,51],\"data\":\"22/07/1996\",\"valor\":\"R$11.844.340,83\"},{\"numeros\":[6,33,36,46,49,53],\"data\":\"29/07/1996\",\"valor\":\"R$13.182.021,44\"},{\"numeros\":[1,9,31,38,46,56],\"data\":\"05/08/1996\",\"valor\":\"R$14.716.828,84\"},{\"numeros\":[17,37,39,51,52,59],\"data\":\"12/08/1996\",\"valor\":\"R$16.510.452,00\"},{\"numeros\":[1,8,14,28,33,43],\"data\":\"19/08/1996\",\"valor\":\"R$18.661.679,61\"},{\"numeros\":[24,43,50,54,55,56],\"data\":\"25/08/1996\",\"valor\":\"R$884.973,50\"},{\"numeros\":[10,22,50,53,57,58],\"data\":\"01/09/1996\",\"valor\":\"R$1.892.469,30\"},{\"numeros\":[13,17,20,33,44,51],\"data\":\"08/09/1996\",\"valor\":\"R$2.998.050,68\"},{\"numeros\":[3,6,22,24,54,60],\"data\":\"15/09/1996\",\"valor\":\"R$4.183.003,48\"},{\"numeros\":[3,8,14,43,56,58],\"data\":\"22/09/1996\",\"valor\":\"R$5.401.793,60\"},{\"numeros\":[7,14,15,29,38,50],\"data\":\"29/09/1996\",\"valor\":\"R$10.127.520,80\"},{\"numeros\":[17,19,28,45,48,56],\"data\":\"06/10/1996\",\"valor\":\"R$11.214.340,46\"},{\"numeros\":[5,14,33,36,43,44],\"data\":\"13/10/1996\",\"valor\":\"R$12.531.181,83\"},{\"numeros\":[5,17,33,39,42,49],\"data\":\"20/10/1996\",\"valor\":\"R$13.997.410,74\"},{\"numeros\":[13,15,17,40,53,57],\"data\":\"27/10/1996\",\"valor\":\"R$832.568,20\"},{\"numeros\":[4,16,21,23,54,57],\"data\":\"03/11/1996\",\"valor\":\"R$1.770.963,49\"},{\"numeros\":[3,13,17,25,29,51],\"data\":\"10/11/1996\",\"valor\":\"R$2.841.425,78\"},{\"numeros\":[6,7,22,38,52,60],\"data\":\"17/11/1996\",\"valor\":\"R$3.791.687,26\"},{\"numeros\":[10,42,43,45,54,55],\"data\":\"24/11/1996\",\"valor\":\"R$4.910.944,53\"},{\"numeros\":[12,16,37,45,52,56],\"data\":\"01/12/1996\",\"valor\":\"R$13.456.111,33\"},{\"numeros\":[3,5,8,12,46,47],\"data\":\"08/12/1996\",\"valor\":\"R$15.222.867,04\"},{\"numeros\":[12,26,35,38,39,47],\"data\":\"15/12/1996\",\"valor\":\"R$17.019.238,50\"},{\"numeros\":[7,11,19,24,33,36],\"data\":\"22/12/1996\",\"valor\":\"R$888.735,02\"},{\"numeros\":[2,6,17,25,26,58],\"data\":\"29/12/1996\",\"valor\":\"R$1.765.157,22\"},{\"numeros\":[14,18,29,38,44,47],\"data\":\"05/01/1997\",\"valor\":\"R$2.642.633,14\"},{\"numeros\":[7,30,37,44,53,55],\"data\":\"12/01/1997\",\"valor\":\"R$3.719.811,46\"},{\"numeros\":[1,23,24,32,46,60],\"data\":\"19/01/1997\",\"valor\":\"R$4.809.891,56\"},{\"numeros\":[3,17,25,35,48,56],\"data\":\"26/01/1997\",\"valor\":\"R$5.933.418,51\"},{\"numeros\":[2,5,28,34,47,50],\"data\":\"02/02/1997\",\"valor\":\"R$7.118.717,38\"},{\"numeros\":[7,13,33,35,43,55],\"data\":\"09/02/1997\",\"valor\":\"R$8.405.156,76\"},{\"numeros\":[6,16,21,44,57,58],\"data\":\"16/02/1997\",\"valor\":\"R$8.917.830,39\"},{\"numeros\":[17,23,24,25,42,47],\"data\":\"23/02/1997\",\"valor\":\"R$10.158.749,73\"},{\"numeros\":[15,30,38,46,58,59],\"data\":\"02/03/1997\",\"valor\":\"R$11.595.036,71\"},{\"numeros\":[3,13,16,38,42,46],\"data\":\"09/03/1997\",\"valor\":\"R$13.192.159,46\"},{\"numeros\":[5,9,18,21,36,56],\"data\":\"16/03/1997\",\"valor\":\"R$7.469.653,99\"},{\"numeros\":[2,14,23,29,38,52],\"data\":\"23/03/1997\",\"valor\":\"R$856.756,39\"},{\"numeros\":[2,7,20,35,51,59],\"data\":\"30/03/1997\",\"valor\":\"R$1.556.147,46\"},{\"numeros\":[7,16,17,27,34,59],\"data\":\"06/04/1997\",\"valor\":\"R$2.570.421,80\"},{\"numeros\":[12,27,30,37,44,49],\"data\":\"13/04/1997\",\"valor\":\"R$3.631.304,91\"},{\"numeros\":[2,8,13,28,34,54],\"data\":\"20/04/1997\",\"valor\":\"R$789.733,42\"},{\"numeros\":[3,14,15,20,21,38],\"data\":\"27/04/1997\",\"valor\":\"R$9.478.249,26\"},{\"numeros\":[8,18,29,42,44,59],\"data\":\"04/05/1997\",\"valor\":\"R$10.657.792,45\"},{\"numeros\":[6,8,13,24,31,52],\"data\":\"11/05/1997\",\"valor\":\"R$12.081.323,45\"},{\"numeros\":[9,25,26,40,41,49],\"data\":\"18/05/1997\",\"valor\":\"R$13.680.019,57\"},{\"numeros\":[8,12,23,50,54,60],\"data\":\"25/05/1997\",\"valor\":\"R$811.186,58\"},{\"numeros\":[1,5,20,25,32,34],\"data\":\"01/06/1997\",\"valor\":\"R$1.656.088,09\"},{\"numeros\":[12,13,15,26,33,48],\"data\":\"08/06/1997\",\"valor\":\"R$2.641.927,81\"},{\"numeros\":[12,14,17,27,47,52],\"data\":\"15/06/1997\",\"valor\":\"R$3.699.406,44\"},{\"numeros\":[1,3,12,13,53,59],\"data\":\"22/06/1997\",\"valor\":\"R$4.787.014,46\"},{\"numeros\":[25,34,45,53,56,58],\"data\":\"29/06/1997\",\"valor\":\"R$5.926.931,93\"},{\"numeros\":[17,23,27,40,43,58],\"data\":\"06/07/1997\",\"valor\":\"R$14.883.849,29\"},{\"numeros\":[16,27,33,43,45,53],\"data\":\"13/07/1997\",\"valor\":\"R$16.602.188,45\"},{\"numeros\":[1,19,34,43,44,48],\"data\":\"20/07/1997\",\"valor\":\"R$18.609.174,26\"},{\"numeros\":[25,26,28,45,51,57],\"data\":\"27/07/1997\",\"valor\":\"R$21.026.575,40\"},{\"numeros\":[2,24,34,37,38,50],\"data\":\"03/08/1997\",\"valor\":\"R$876.368,71\"},{\"numeros\":[21,24,35,36,37,49],\"data\":\"10/08/1997\",\"valor\":\"R$1.917.550,02\"},{\"numeros\":[8,17,18,23,33,53],\"data\":\"17/08/1997\",\"valor\":\"R$3.048.886,14\"},{\"numeros\":[21,29,40,49,54,57],\"data\":\"24/08/1997\",\"valor\":\"R$4.240.457,60\"},{\"numeros\":[12,22,25,31,32,46],\"data\":\"31/08/1997\",\"valor\":\"R$5.465.006,39\"},{\"numeros\":[2,13,17,25,31,43],\"data\":\"07/09/1997\",\"valor\":\"R$6.770.601,75\"},{\"numeros\":[23,28,37,40,48,51],\"data\":\"14/09/1997\",\"valor\":\"R$10.953.707,53\"},{\"numeros\":[10,23,41,47,54,60],\"data\":\"21/09/1997\",\"valor\":\"R$12.401.021,68\"},{\"numeros\":[15,18,29,36,51,53],\"data\":\"28/09/1997\",\"valor\":\"R$13.877.826,02\"},{\"numeros\":[4,15,16,24,42,57],\"data\":\"05/10/1997\",\"valor\":\"R$858.048,93\"},{\"numeros\":[4,6,10,25,34,40],\"data\":\"12/10/1997\",\"valor\":\"R$1.780.905,80\"},{\"numeros\":[6,15,30,37,45,47],\"data\":\"19/10/1997\",\"valor\":\"R$2.713.984,86\"},{\"numeros\":[6,21,22,34,36,54],\"data\":\"26/10/1997\",\"valor\":\"R$3.678.955,17\"},{\"numeros\":[4,5,11,28,32,40],\"data\":\"02/11/1997\",\"valor\":\"R$4.654.053,86\"},{\"numeros\":[4,18,29,37,43,45],\"data\":\"09/11/1997\",\"valor\":\"R$5.705.540,99\"},{\"numeros\":[13,34,42,44,55,59],\"data\":\"16/11/1997\",\"valor\":\"R$6.752.968,26\"},{\"numeros\":[9,21,26,40,52,54],\"data\":\"23/11/1997\",\"valor\":\"R$15.764.300,87\"},{\"numeros\":[2,4,10,35,39,60],\"data\":\"30/11/1997\",\"valor\":\"R$782.445,93\"},{\"numeros\":[1,3,5,23,24,51],\"data\":\"07/12/1997\",\"valor\":\"R$1.663.783,45\"},{\"numeros\":[2,22,28,31,36,53],\"data\":\"14/12/1997\",\"valor\":\"R$2.569.217,31\"},{\"numeros\":[8,18,28,51,52,55],\"data\":\"21/12/1997\",\"valor\":\"R$3.512.942,16\"},{\"numeros\":[6,40,45,46,50,60],\"data\":\"28/12/1997\",\"valor\":\"R$4.326.270,55\"},{\"numeros\":[4,7,26,40,42,58],\"data\":\"04/01/1998\",\"valor\":\"R$5.218.562,47\"},{\"numeros\":[5,11,14,35,53,56],\"data\":\"11/01/1998\",\"valor\":\"R$727.932,66\"},{\"numeros\":[13,14,31,33,35,43],\"data\":\"18/01/1998\",\"valor\":\"R$695.149,05\"},{\"numeros\":[11,24,30,33,46,60],\"data\":\"25/01/1998\",\"valor\":\"R$1.470.041,96\"},{\"numeros\":[14,29,30,46,48,51],\"data\":\"01/02/1998\",\"valor\":\"R$8.585.129,47\"},{\"numeros\":[1,18,29,31,37,39],\"data\":\"08/02/1998\",\"valor\":\"R$9.869.908,65\"},{\"numeros\":[19,20,37,42,44,56],\"data\":\"15/02/1998\",\"valor\":\"R$11.336.626,88\"},{\"numeros\":[1,7,9,49,54,57],\"data\":\"22/02/1998\",\"valor\":\"R$696.984,24\"},{\"numeros\":[1,4,13,21,38,52],\"data\":\"01/03/1998\",\"valor\":\"R$621.880,72\"},{\"numeros\":[3,13,31,43,46,49],\"data\":\"08/03/1998\",\"valor\":\"R$1.402.269,88\"},{\"numeros\":[5,16,24,35,38,39],\"data\":\"15/03/1998\",\"valor\":\"R$2.268.378,66\"},{\"numeros\":[2,4,16,24,51,52],\"data\":\"22/03/1998\",\"valor\":\"R$3.171.136,01\"},{\"numeros\":[21,24,29,34,59,60],\"data\":\"29/03/1998\",\"valor\":\"R$4.116.628,49\"},{\"numeros\":[1,13,44,48,49,54],\"data\":\"04/04/1998\",\"valor\":\"R$11.523.677,38\"},{\"numeros\":[18,31,43,52,57,58],\"data\":\"11/04/1998\",\"valor\":\"R$12.690.079,16\"},{\"numeros\":[4,22,25,32,33,52],\"data\":\"18/04/1998\",\"valor\":\"R$14.165.647,19\"},{\"numeros\":[12,20,34,37,42,43],\"data\":\"25/04/1998\",\"valor\":\"R$15.802.579,93\"},{\"numeros\":[7,26,28,34,54,55],\"data\":\"02/05/1998\",\"valor\":\"R$650.691,40\"},{\"numeros\":[6,12,18,37,47,54],\"data\":\"09/05/1998\",\"valor\":\"R$1.470.833,69\"},{\"numeros\":[4,6,14,20,24,38],\"data\":\"16/05/1998\",\"valor\":\"R$2.339.731,79\"},{\"numeros\":[5,13,32,36,42,51],\"data\":\"23/05/1998\",\"valor\":\"R$3.257.973,62\"},{\"numeros\":[20,25,27,33,42,53],\"data\":\"30/05/1998\",\"valor\":\"R$4.210.398,41\"},{\"numeros\":[9,22,25,37,56,57],\"data\":\"06/06/1998\",\"valor\":\"R$5.231.361,36\"},{\"numeros\":[1,21,36,38,47,50],\"data\":\"13/06/1998\",\"valor\":\"R$13.206.225,91\"},{\"numeros\":[3,16,27,40,45,46],\"data\":\"20/06/1998\",\"valor\":\"R$14.643.740,70\"},{\"numeros\":[2,29,41,44,53,55],\"data\":\"27/06/1998\",\"valor\":\"R$16.205.258,33\"},{\"numeros\":[11,17,20,39,43,53],\"data\":\"04/07/1998\",\"valor\":\"R$18.019.018,95\"},{\"numeros\":[13,14,16,26,32,42],\"data\":\"11/07/1998\",\"valor\":\"R$20.646.465,28\"},{\"numeros\":[5,15,34,41,52,57],\"data\":\"18/07/1998\",\"valor\":\"R$24.536.288,72\"},{\"numeros\":[25,41,47,53,56,59],\"data\":\"25/07/1998\",\"valor\":\"R$851.497,47\"},{\"numeros\":[6,10,11,28,32,40],\"data\":\"01/08/1998\",\"valor\":\"R$1.852.731,83\"},{\"numeros\":[21,29,50,51,54,59],\"data\":\"08/08/1998\",\"valor\":\"R$2.987.378,17\"},{\"numeros\":[3,9,18,21,23,43],\"data\":\"15/08/1998\",\"valor\":\"R$4.183.483,50\"},{\"numeros\":[1,9,10,32,46,54],\"data\":\"22/08/1998\",\"valor\":\"R$5.440.490,00\"},{\"numeros\":[13,29,38,42,49,53],\"data\":\"29/08/1998\",\"valor\":\"R$18.814.958,31\"},{\"numeros\":[4,9,17,27,30,44],\"data\":\"05/09/1998\",\"valor\":\"R$21.765.774,49\"},{\"numeros\":[7,9,35,41,44,50],\"data\":\"12/09/1998\",\"valor\":\"R$25.343.057,89\"},{\"numeros\":[5,6,19,34,39,57],\"data\":\"19/09/1998\",\"valor\":\"R$30.533.241,12\"},{\"numeros\":[4,25,32,36,52,60],\"data\":\"26/09/1998\",\"valor\":\"R$1.008.932,39\"},{\"numeros\":[21,22,35,40,53,59],\"data\":\"03/10/1998\",\"valor\":\"R$2.188.444,72\"},{\"numeros\":[1,17,25,38,45,59],\"data\":\"10/10/1998\",\"valor\":\"R$3.463.871,17\"},{\"numeros\":[15,16,19,22,26,49],\"data\":\"17/10/1998\",\"valor\":\"R$4.802.402,93\"},{\"numeros\":[5,14,27,37,40,41],\"data\":\"24/10/1998\",\"valor\":\"R$6.254.876,80\"},{\"numeros\":[3,13,26,27,41,42],\"data\":\"31/10/1998\",\"valor\":\"R$3.902.486,14\"},{\"numeros\":[7,31,41,44,46,55],\"data\":\"07/11/1998\",\"valor\":\"R$16.453.628,31\"},{\"numeros\":[10,13,22,41,42,58],\"data\":\"14/11/1998\",\"valor\":\"R$19.324.778,90\"},{\"numeros\":[8,15,19,20,54,59],\"data\":\"21/11/1998\",\"valor\":\"R$22.851.887,24\"},{\"numeros\":[6,18,20,40,50,53],\"data\":\"28/11/1998\",\"valor\":\"R$27.136.115,88\"},{\"numeros\":[8,32,36,44,45,55],\"data\":\"05/12/1998\",\"valor\":\"R$33.597.755,21\"},{\"numeros\":[15,16,31,41,43,51],\"data\":\"12/12/1998\",\"valor\":\"R$1.283.220,59\"},{\"numeros\":[25,32,34,42,51,60],\"data\":\"19/12/1998\",\"valor\":\"R$2.747.335,81\"},{\"numeros\":[6,16,23,24,28,38],\"data\":\"24/12/1998\",\"valor\":\"R$3.805.750,38\"},{\"numeros\":[32,35,41,55,58,59],\"data\":\"31/12/1998\",\"valor\":\"R$965.880,61\"},{\"numeros\":[7,11,20,28,45,48],\"data\":\"09/01/1999\",\"valor\":\"R$2.211.820,94\"},{\"numeros\":[12,44,50,52,54,55],\"data\":\"16/01/1999\",\"valor\":\"R$21.414.530,14\"},{\"numeros\":[3,16,20,43,52,56],\"data\":\"23/01/1999\",\"valor\":\"R$24.091.811,02\"},{\"numeros\":[5,12,15,29,51,58],\"data\":\"30/01/1999\",\"valor\":\"R$1.040.614,80\"},{\"numeros\":[2,30,31,42,45,47],\"data\":\"06/02/1999\",\"valor\":\"R$2.329.154,62\"},{\"numeros\":[8,10,24,33,45,48],\"data\":\"13/02/1999\",\"valor\":\"R$3.692.251,60\"},{\"numeros\":[12,30,32,35,43,44],\"data\":\"20/02/1999\",\"valor\":\"R$4.988.808,21\"},{\"numeros\":[17,23,42,49,52,55],\"data\":\"27/02/1999\",\"valor\":\"R$978.407,41\"},{\"numeros\":[4,13,17,21,41,44],\"data\":\"06/03/1999\",\"valor\":\"R$2.140.030,92\"},{\"numeros\":[4,14,17,43,51,58],\"data\":\"13/03/1999\",\"valor\":\"R$961.863,12\"},{\"numeros\":[9,11,16,35,50,58],\"data\":\"20/03/1999\",\"valor\":\"R$2.038.170,67\"},{\"numeros\":[2,13,42,52,54,58],\"data\":\"27/03/1999\",\"valor\":\"R$11.251.511,63\"},{\"numeros\":[6,25,30,37,39,41],\"data\":\"03/04/1999\",\"valor\":\"R$12.896.601,04\"},{\"numeros\":[5,24,85,19,17,87],\"data\":\"10/05/2010\",\"valor\":\"R$12.896.601,04\"}]"
      ]
    },
    {
      "cell_type": "code",
      "source": [
        "\n",
        "\n",
        "# Credenciais da API\n",
        "from google.colab import userdata\n",
        "api_key = userdata.get(\"SECRET_KEY\")\n",
        "genai.configure(api_key= api_key)\n",
        "\n",
        "config = { \"temperature\": 0 }\n",
        "role = \"A partir de datas informadas, vamos encontrar os dados do resultado que possui maior semelhança com os números sorteados, comparando dia, mês e ano com os número sorteados\"\n",
        "\n",
        "# Configurando o modelo generativo que será utilizado\n",
        "model = genai.GenerativeModel('models/gemini-1.5-pro-latest', generation_config=config, system_instruction=role)\n",
        "\n",
        "data_nascimento = input('Qual a sua data de nascimento?') or  '05/03/85'\n",
        "data_nascimento_pai = input('Qual a sua data de nascimento do seu pai?') or '27/09/56'\n",
        "data_nascimento_mae = input('Qual a sua data de nascimento da sua mãe?') or '26/12/58'\n",
        "eh_casado = input('É casado (s/n)?') or 's'\n",
        "data_casamento = None\n",
        "data_nascimento_conjuge = None\n",
        "if eh_casado == 's':\n",
        "  data_casamento = input('Qual a data do seu casamento?') or '19/09/17'\n",
        "  data_nascimento_conjuge = input(\"Qual a data de nascimento do seu cônjuge?\") or '16/08/87'\n",
        "\n",
        "# response = model.generate_content(f'Olhando os resultados da mega sena em {todosResultados}, me diga somente a data e o prêmio que teve o resultado com a maior soma dos números gerados')\n",
        "pergunta = f\"Baseada na data de nascimento do nosso herói = {data_nascimento},\"\n",
        "pergunta += f\" data de nascimento do pai = {data_nascimento_pai},\"\n",
        "pergunta += f\" data de nascimento da mãe = {data_nascimento_mae},\"\n",
        "if eh_casado == 's':\n",
        "  pergunta += f\" data de casamento = {data_casamento},\"\n",
        "  pergunta += f\" data de nascimento ddo cônjuge = {data_nascimento_conjuge},\"\n",
        "pergunta += f\" nos últimos números sorteados da mega sena {todosResultados}. Podendo usar números de qualquer uma das datas, \"\n",
        "pergunta += f\" qual o prêmio e a data do sorteio que usou a maior quantidade de números coletados? Mostre somente a data do sorteio, o prêmio do sorteio, no formato DATA: VALOR, e qual o campo usado para comparar, por exemplo mês do nascimento do heroi\"\n",
        "response = model.generate_content(pergunta)\n",
        "print(response.text)\n",
        "\n",
        "\n",
        "\n"
      ],
      "metadata": {
        "colab": {
          "base_uri": "https://localhost:8080/",
          "height": 607
        },
        "id": "N-43BavZLtm5",
        "outputId": "c7c65b3d-9ff2-4149-f501-2d0cd679923e"
      },
      "execution_count": 19,
      "outputs": [
        {
          "output_type": "stream",
          "name": "stdout",
          "text": [
            "Qual a sua data de nascimento?\n",
            "Qual a sua data de nascimento do seu pai?\n",
            "Qual a sua data de nascimento da sua mãe?\n",
            "É casado (s/n)?\n",
            "Qual a data do seu casamento?\n",
            "Qual a data de nascimento do seu cônjuge?\n",
            "Vamos analisar as datas fornecidas e os resultados da Mega Sena para encontrar a maior correspondência:\n",
            "\n",
            "**Datas:**\n",
            "\n",
            "* Nascimento do herói: 05/03/1985 ->  05, 03, 19, 85\n",
            "* Nascimento do pai: 27/09/1956 -> 27, 09, 19, 56\n",
            "* Nascimento da mãe: 26/12/1958 -> 26, 12, 19, 58\n",
            "* Casamento: 19/09/1917 -> 19, 09, 19, 17\n",
            "* Nascimento do cônjuge: 16/08/1987 -> 16, 08, 19, 87\n",
            "\n",
            "**Resultados da Mega Sena:**\n",
            "\n",
            "Percorrendo os resultados, encontramos o seguinte:\n",
            "\n",
            "* **03/04/1999:** Números sorteados: [5, 3, **85**, 19, 17, **87**]. \n",
            "\n",
            "Este sorteio contém 4 números correspondentes às datas fornecidas:\n",
            "    * **85**: Ano de nascimento do herói\n",
            "    * **19**: Ano de nascimento do herói, pai e mãe\n",
            "    * **17**: Ano de casamento\n",
            "    * **87**: Ano de nascimento do cônjuge\n",
            "\n",
            "Nenhum outro sorteio possui tantos números correspondentes.\n",
            "\n",
            "**Resposta:**\n",
            "\n",
            "**03/04/1999: R$12.896.601,04**.  Os campos usados foram: ano de nascimento do heroi, ano de nascimento do pai, ano de nascimento da mãe, ano de casamento e ano de nascimento do cônjuge. \n",
            "\n"
          ]
        }
      ]
    }
  ]
}